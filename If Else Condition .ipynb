{
 "cells": [
  {
   "cell_type": "code",
   "execution_count": 5,
   "id": "c512e14a",
   "metadata": {},
   "outputs": [
    {
     "name": "stdout",
     "output_type": "stream",
     "text": [
      "Enter the Value of = 1000\n",
      "Enter the Value of = 999\n",
      "A is Largest than B 1000.0\n"
     ]
    }
   ],
   "source": [
    "a=float(input(\"Enter the Value of = \"))\n",
    "b=float(input(\"Enter the Value of = \"))\n",
    "if a>b:\n",
    "    print(\"A is Largest than B\",a)\n",
    "else:\n",
    "    print(\"B is Largest than A\",b)"
   ]
  },
  {
   "cell_type": "code",
   "execution_count": 7,
   "id": "093078ac",
   "metadata": {},
   "outputs": [
    {
     "name": "stdout",
     "output_type": "stream",
     "text": [
      "Enter the Value of = 5\n",
      "Enter the Value of = 5\n",
      "It is equal\n"
     ]
    }
   ],
   "source": [
    "a=float(input(\"Enter the Value of = \"))\n",
    "b=float(input(\"Enter the Value of = \"))\n",
    "if a>b:\n",
    "    print(a)\n",
    "elif a==b:\n",
    "    print(\"It is equal\")\n",
    "else:\n",
    "    print(b)"
   ]
  },
  {
   "cell_type": "code",
   "execution_count": 9,
   "id": "2385ed9d",
   "metadata": {},
   "outputs": [
    {
     "name": "stdout",
     "output_type": "stream",
     "text": [
      "Enter the Value of = 10\n",
      "Enter the Value of = 10\n",
      "Enter the Value of = 10\n",
      "All are equal\n"
     ]
    }
   ],
   "source": [
    "a=float(input(\"Enter the Value of = \"))\n",
    "b=float(input(\"Enter the Value of = \"))\n",
    "c=float(input(\"Enter the Value of = \"))\n",
    "if a>b and a>c:\n",
    "    print(a)\n",
    "elif b>c and b>a:\n",
    "    print(b)\n",
    "elif c>a and c>b:\n",
    "    print(c)\n",
    "else:\n",
    "    print(\"All are equal\")"
   ]
  },
  {
   "cell_type": "code",
   "execution_count": 12,
   "id": "b1e95f50",
   "metadata": {},
   "outputs": [
    {
     "name": "stdout",
     "output_type": "stream",
     "text": [
      "Enter the Value of = 5\n",
      "Enter the Value of = 6\n",
      "Anybody do not here\n"
     ]
    }
   ],
   "source": [
    "a=float(input(\"Enter the Value of = \"))\n",
    "b=float(input(\"Enter the Value of = \"))\n",
    "if a>b:\n",
    "    if a%2==0:\n",
    "        print(\"yes he is here\")\n",
    "    else:\n",
    "        print(\"No he is not here\")\n",
    "else:\n",
    "    print(\"Anybody do not here\")"
   ]
  },
  {
   "cell_type": "code",
   "execution_count": null,
   "id": "3cd64f9d",
   "metadata": {},
   "outputs": [],
   "source": []
  }
 ],
 "metadata": {
  "kernelspec": {
   "display_name": "Python 3 (ipykernel)",
   "language": "python",
   "name": "python3"
  },
  "language_info": {
   "codemirror_mode": {
    "name": "ipython",
    "version": 3
   },
   "file_extension": ".py",
   "mimetype": "text/x-python",
   "name": "python",
   "nbconvert_exporter": "python",
   "pygments_lexer": "ipython3",
   "version": "3.11.5"
  }
 },
 "nbformat": 4,
 "nbformat_minor": 5
}
